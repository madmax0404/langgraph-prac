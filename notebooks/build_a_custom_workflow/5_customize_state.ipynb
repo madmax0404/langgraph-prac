{
 "cells": [
  {
   "cell_type": "markdown",
   "id": "bbcb09a4",
   "metadata": {},
   "source": [
    "# [Source](https://langchain-ai.github.io/langgraph/tutorials/get-started/5-customize-state/)"
   ]
  },
  {
   "cell_type": "code",
   "execution_count": 1,
   "id": "c6067075",
   "metadata": {},
   "outputs": [],
   "source": [
    "from dotenv import load_dotenv\n",
    "load_dotenv()\n",
    "import os\n",
    "from langchain_ollama import ChatOllama\n",
    "from typing import Annotated\n",
    "from typing_extensions import TypedDict\n",
    "from langgraph.graph.message import add_messages\n",
    "from langgraph.graph import StateGraph, START, END\n",
    "from langgraph.prebuilt import ToolNode, tools_condition\n",
    "from langgraph.checkpoint.memory import InMemorySaver\n",
    "from langchain_tavily import TavilySearch"
   ]
  },
  {
   "cell_type": "code",
   "execution_count": 2,
   "id": "a5889eca",
   "metadata": {},
   "outputs": [],
   "source": [
    "llm = ChatOllama(\n",
    "    model=os.getenv(\"ollama_model\"),\n",
    "    reasoning=True,\n",
    ")"
   ]
  },
  {
   "cell_type": "code",
   "execution_count": 3,
   "id": "6a391d4f",
   "metadata": {},
   "outputs": [],
   "source": [
    "class State(TypedDict):\n",
    "    messages: Annotated[list, add_messages]\n",
    "    author: str\n",
    "    release_date: str"
   ]
  },
  {
   "cell_type": "code",
   "execution_count": 4,
   "id": "df4522d6",
   "metadata": {},
   "outputs": [],
   "source": [
    "from langchain_core.messages import ToolMessage\n",
    "from langchain_core.tools import InjectedToolCallId, tool\n",
    "from langgraph.types import Command, interrupt"
   ]
  },
  {
   "cell_type": "code",
   "execution_count": 5,
   "id": "f48e9fd8",
   "metadata": {},
   "outputs": [],
   "source": [
    "# Note that because we are generating a ToolMessage for a state update, we\n",
    "# generally require the ID of the corresponding tool call. We can use\n",
    "# LangChain's InjectedToolCallId to signal that this argument should not\n",
    "# be revealed to the model in the tool's schema.\n",
    "@tool\n",
    "def human_assistance(\n",
    "    author: str, release_date: str, tool_call_id: Annotated[str, InjectedToolCallId]\n",
    ") -> str:\n",
    "    \"\"\"Request assistance from a human.\"\"\"\n",
    "    human_response = interrupt(\n",
    "        {\n",
    "            \"question\": \"Is this correct?\",\n",
    "            \"author\": author,\n",
    "            \"release_date\": release_date,\n",
    "        },\n",
    "    )\n",
    "    # If the information is correct, update the state as-is.\n",
    "    if human_response.get(\"correct\", \"\").lower().startswith(\"y\"):\n",
    "        verified_author = author\n",
    "        verified_release_date = release_date\n",
    "        response = \"Correct\"\n",
    "    # Otherwise, receive information from the human reviewer.\n",
    "    else:\n",
    "        verified_author = human_response.get(\"author\", author)\n",
    "        verified_release_date = human_response.get(\"release_date\", release_date)\n",
    "        response = f\"No. The correct information is: {human_response}. You can stop searching now.\"\n",
    "\n",
    "    # This time we explicitly update the state with a ToolMessage inside\n",
    "    # the tool.\n",
    "    state_update = {\n",
    "        \"author\": verified_author,\n",
    "        \"release_date\": verified_release_date,\n",
    "        \"messages\": [ToolMessage(response, tool_call_id=tool_call_id)],\n",
    "    }\n",
    "    # We return a Command object in the tool to update our state.\n",
    "    return Command(update=state_update)"
   ]
  },
  {
   "cell_type": "code",
   "execution_count": 6,
   "id": "a02d11c6",
   "metadata": {},
   "outputs": [],
   "source": [
    "tool = TavilySearch(max_results=2)\n",
    "tools = [tool, human_assistance]\n",
    "llm_with_tools = llm.bind_tools(tools)"
   ]
  },
  {
   "cell_type": "code",
   "execution_count": 7,
   "id": "8888e70e",
   "metadata": {},
   "outputs": [],
   "source": [
    "def chatbot(state: State):\n",
    "    message = llm_with_tools.invoke(state[\"messages\"])\n",
    "    # Because we will be interrupting during tool execution,\n",
    "    # we disable parallel tool calling to avoid repeating any\n",
    "    # tool invocations when we resume.\n",
    "    assert len(message.tool_calls) <= 1\n",
    "    return {\"messages\": [message]}"
   ]
  },
  {
   "cell_type": "code",
   "execution_count": 8,
   "id": "2d1bca84",
   "metadata": {},
   "outputs": [],
   "source": [
    "graph_builder = StateGraph(State)"
   ]
  },
  {
   "cell_type": "code",
   "execution_count": 9,
   "id": "12ba447a",
   "metadata": {},
   "outputs": [
    {
     "data": {
      "text/plain": [
       "<langgraph.graph.state.StateGraph at 0x7b199be48470>"
      ]
     },
     "execution_count": 9,
     "metadata": {},
     "output_type": "execute_result"
    }
   ],
   "source": [
    "graph_builder.add_node(\"chatbot\", chatbot)"
   ]
  },
  {
   "cell_type": "code",
   "execution_count": 10,
   "id": "d280a5a2",
   "metadata": {},
   "outputs": [
    {
     "data": {
      "text/plain": [
       "<langgraph.graph.state.StateGraph at 0x7b199be48470>"
      ]
     },
     "execution_count": 10,
     "metadata": {},
     "output_type": "execute_result"
    }
   ],
   "source": [
    "tool_node = ToolNode(tools=tools)\n",
    "graph_builder.add_node(\"tools\", tool_node)"
   ]
  },
  {
   "cell_type": "code",
   "execution_count": 11,
   "id": "75cd0c4a",
   "metadata": {},
   "outputs": [
    {
     "data": {
      "text/plain": [
       "<langgraph.graph.state.StateGraph at 0x7b199be48470>"
      ]
     },
     "execution_count": 11,
     "metadata": {},
     "output_type": "execute_result"
    }
   ],
   "source": [
    "graph_builder.add_conditional_edges(\n",
    "    \"chatbot\",\n",
    "    tools_condition,\n",
    ")"
   ]
  },
  {
   "cell_type": "code",
   "execution_count": 12,
   "id": "bf259862",
   "metadata": {},
   "outputs": [
    {
     "data": {
      "text/plain": [
       "<langgraph.graph.state.StateGraph at 0x7b199be48470>"
      ]
     },
     "execution_count": 12,
     "metadata": {},
     "output_type": "execute_result"
    }
   ],
   "source": [
    "graph_builder.add_edge(\"tools\", \"chatbot\")\n",
    "graph_builder.add_edge(START, \"chatbot\")"
   ]
  },
  {
   "cell_type": "code",
   "execution_count": 13,
   "id": "de01c707",
   "metadata": {},
   "outputs": [],
   "source": [
    "memory = InMemorySaver()\n",
    "graph = graph_builder.compile(checkpointer=memory)"
   ]
  },
  {
   "cell_type": "code",
   "execution_count": 14,
   "id": "4cece458",
   "metadata": {},
   "outputs": [],
   "source": [
    "from IPython.display import Image, display"
   ]
  },
  {
   "cell_type": "code",
   "execution_count": 15,
   "id": "76546fa5",
   "metadata": {},
   "outputs": [
    {
     "data": {
      "image/png": "[encoded data removed]",
      "text/plain": [
       "<IPython.core.display.Image object>"
      ]
     },
     "metadata": {},
     "output_type": "display_data"
    }
   ],
   "source": [
    "g = graph.get_graph()\n",
    "png = g.draw_png()     # pygraphviz + graphviz 필요\n",
    "display(Image(png))"
   ]
  },
  {
   "cell_type": "code",
   "execution_count": 16,
   "id": "fb28f451",
   "metadata": {},
   "outputs": [
    {
     "name": "stdout",
     "output_type": "stream",
     "text": [
      "================================\u001b[1m Human Message \u001b[0m=================================\n",
      "\n",
      "Can you look up when LangGraph was released? When you have the answer, use the human_assistance tool for review.\n",
      "==================================\u001b[1m Ai Message \u001b[0m==================================\n",
      "Tool Calls:\n",
      "  tavily_search (3088af56-1afb-4967-884e-787383eeca51)\n",
      " Call ID: 3088af56-1afb-4967-884e-787383eeca51\n",
      "  Args:\n",
      "    query: LangGraph release date\n",
      "    search_depth: basic\n",
      "=================================\u001b[1m Tool Message \u001b[0m=================================\n",
      "Name: tavily_search\n",
      "\n",
      "{\"query\": \"LangGraph release date\", \"follow_up_questions\": null, \"answer\": null, \"images\": [], \"results\": [{\"url\": \"https://langchain-ai.github.io/langgraph/tutorials/get-started/5-customize-state/\", \"title\": \"5. Customize state - GitHub Pages\", \"content\": \"Prompt the chatbot to look up the \\\"birthday\\\" of the LangGraph library and direct the chatbot to reach out to the `human_assistance` tool once it has the required information. Then, I'll use the human_assistance tool for review.\\\", 'type': 'text'}, {'id': 'toolu_01JoXQPgTVJXiuma8xMVwqAi', 'input': {'query': 'LangGraph release date'}, 'name': 'tavily_search_results_json', 'type': 'tool_use'}] \\\\n\\\\nGiven this information, I'll use the human_assistance tool to review and potentially provide more accurate information about LangGraph's initial release date.\\\", 'type': 'text'}, {'id': 'toolu_01JDQAV7nPqMkHHhNs3j3XoN', 'input': {'name': 'Assistant', 'birthday': '2023-01-01'}, 'name': 'human_assistance', 'type': 'tool_use'}] \\\\n\\\\nGiven this information, I'll use the human_assistance tool to review and potentially provide more accurate information about LangGraph's initial release date.\\\", 'type': 'text'}, {'id': 'toolu_01JDQAV7nPqMkHHhNs3j3XoN', 'input': {'name': 'Assistant', 'birthday': '2023-01-01'}, 'name': 'human_assistance', 'type': 'tool_use'}]\", \"score\": 0.8127637, \"raw_content\": null}, {\"url\": \"https://www.reddit.com/r/LangChain/comments/1fo4mp4/langgraph_studio_release_timeline/\", \"title\": \"LangGraph Studio release timeline : r/LangChain - Reddit\", \"content\": \"LangGraph Studio release timeline : r/LangChain Skip to main contentLangGraph Studio release timeline : r/LangChain Open menu Open navigationGo to Reddit Home r/LangChain A chip A close button Image 1: r/LangChain icon Go to LangChain r/LangChain Image 2: r/LangChain iconr/LangChain LangChain is an open-source framework and developer toolkit that helps developers get LLM applications from prototype to production. LangGraph Studio release timeline LangGraph Studio is available in beta for only Apple Silicon chip, so when it will be released for other operating system platform like windows and linux? Continue with Email  *   Reddit reReddit: Top posts of September 24, 2024 * * * *   Reddit reReddit: Top posts of September 2024 * * * *   Reddit reReddit: Top posts of 2024 * * *\", \"score\": 0.6821721, \"raw_content\": null}], \"response_time\": 0.69, \"request_id\": \"43e333b1-9475-4c3f-b9a4-1737f8361fdc\"}\n",
      "==================================\u001b[1m Ai Message \u001b[0m==================================\n",
      "Tool Calls:\n",
      "  tavily_search (4e7926b8-2e2a-4974-880f-4f782cceba83)\n",
      " Call ID: 4e7926b8-2e2a-4974-880f-4f782cceba83\n",
      "  Args:\n",
      "    query: LangGraph release date\n",
      "    search_depth: advanced\n",
      "=================================\u001b[1m Tool Message \u001b[0m=================================\n",
      "Name: tavily_search\n",
      "\n",
      "{\"query\": \"LangGraph release date\", \"follow_up_questions\": null, \"answer\": null, \"images\": [], \"results\": [{\"url\": \"https://changelog.langchain.com/announcements/week-of-1-22-24-langchain-release-notes\", \"title\": \"Introducing LangGraph - LangChain - Changelog\", \"content\": \"🤖🚀 Introducing LangGraph\\n\\nDATE:January 22, 2024\\n\\nAUTHOR: The LangChain Team \\n\\nIntroducing LangGraph\\n\\nWe just launched LangGraph, which helps customize your Agent Runtime. You can read more about it on the blog.\\n\\nLangGraph helps construct a powerful agent executor that allows for loops in logic while keeping track of application state. Agents constructed with LangGraph can handle more ambiguous inputs and accomplish tasks more consistently. These agents can:\\n\\n   Force call a tool [...] LangChain - Changelog | 🤖🚀 Introducing LangGraph\\n\\n[](\\n\\nProducts\\n\\nLangChainLangSmithLangGraph\\n\\nMethods\\n\\nRetrievalAgentsEvaluation\\n\\nResources\\n\\nBlogCase StudiesLangChain AcademyCommunityExpertsChangelog\\n\\nDocs\\n\\nPython\\n\\nLangChainLangSmithLangGraph\\n\\nJavaScript\\n\\nLangChainLangSmithLangGraph\\n\\nCompany\\n\\nAboutCareers\\n\\nPricing\\n\\nGet a demo\\n\\nSign up\\n\\nLangChain Changelog\\n\\nSign up for our newsletter to stay up to date\\n\\nForm Type \\n\\nBack to Announcements\\n\\nDATE:January 22, 2024\\n\\nAUTHOR:The LangChain Team\\n\\nLangGraph\", \"score\": 0.834852, \"raw_content\": null}, {\"url\": \"https://blog.langchain.com/langgraph-studio-the-first-agent-ide/\", \"title\": \"LangGraph Studio: The first agent IDE - LangChain Blog\", \"content\": \"In January 2023, we launched LangGraph, a highly controllable, low-level orchestration framework for building agentic applications. Since then, we've seen teams build more complex agentic applications for production; in turn, we've heavily invested in LangGraph, leading to a stable 0.1 release this past June.\", \"score\": 0.81133276, \"raw_content\": null}], \"response_time\": 0.95, \"request_id\": \"5f2c1adf-32a5-497b-b607-00f60d5d6e12\"}\n",
      "==================================\u001b[1m Ai Message \u001b[0m==================================\n",
      "Tool Calls:\n",
      "  tavily_search (277bac4e-e0b9-452f-b4b0-ed73018070e4)\n",
      " Call ID: 277bac4e-e0b9-452f-b4b0-ed73018070e4\n",
      "  Args:\n",
      "    query: LangGraph first release January 2023\n",
      "    search_depth: basic\n",
      "=================================\u001b[1m Tool Message \u001b[0m=================================\n",
      "Name: tavily_search\n",
      "\n",
      "{\"query\": \"LangGraph first release January 2023\", \"follow_up_questions\": null, \"answer\": null, \"images\": [], \"results\": [{\"url\": \"https://langchain-ai.github.io/langgraph/tutorials/get-started/5-customize-state/\", \"title\": \"5. Customize state - GitHub Pages\", \"content\": \"Prompt the chatbot to look up the \\\"birthday\\\" of the LangGraph library and direct the chatbot to reach out to the `human_assistance` tool once it has the required information. Then, I'll use the human_assistance tool for review.\\\", 'type': 'text'}, {'id': 'toolu_01JoXQPgTVJXiuma8xMVwqAi', 'input': {'query': 'LangGraph release date'}, 'name': 'tavily_search_results_json', 'type': 'tool_use'}] \\\\n\\\\nGiven this information, I'll use the human_assistance tool to review and potentially provide more accurate information about LangGraph's initial release date.\\\", 'type': 'text'}, {'id': 'toolu_01JDQAV7nPqMkHHhNs3j3XoN', 'input': {'name': 'Assistant', 'birthday': '2023-01-01'}, 'name': 'human_assistance', 'type': 'tool_use'}] \\\\n\\\\nGiven this information, I'll use the human_assistance tool to review and potentially provide more accurate information about LangGraph's initial release date.\\\", 'type': 'text'}, {'id': 'toolu_01JDQAV7nPqMkHHhNs3j3XoN', 'input': {'name': 'Assistant', 'birthday': '2023-01-01'}, 'name': 'human_assistance', 'type': 'tool_use'}]\", \"score\": 0.6773251, \"raw_content\": null}, {\"url\": \"https://research.contrary.com/company/langchain\", \"title\": \"Report: LangChain Business Breakdown & Founding Story\", \"content\": \"LangGraph, released in January 2024, is a low-level framework that empowers developers to create agent and multi-agent workflows, offering fine-\", \"score\": 0.6607204, \"raw_content\": null}], \"response_time\": 0.82, \"request_id\": \"92e84c16-7b0c-4b87-9da8-07e36e51ce4b\"}\n",
      "==================================\u001b[1m Ai Message \u001b[0m==================================\n",
      "Tool Calls:\n",
      "  tavily_search (82ebabbd-09e3-4f14-90d8-f8d837f87ade)\n",
      " Call ID: 82ebabbd-09e3-4f14-90d8-f8d837f87ade\n",
      "  Args:\n",
      "    query: LangGraph launched January 2023\n",
      "    search_depth: advanced\n",
      "=================================\u001b[1m Tool Message \u001b[0m=================================\n",
      "Name: tavily_search\n",
      "\n",
      "{\"query\": \"LangGraph launched January 2023\", \"follow_up_questions\": null, \"answer\": null, \"images\": [], \"results\": [{\"url\": \"https://ubos.tech/news/langgraph-studio-the-first-agent-ide-for-visualizing-interacting-with-and-debugging-complex-agentic-applications/\", \"title\": \"LangGraph Studio: The First Agent IDE for Visualizing, Interacting ...\", \"content\": \"LangGraph, launched in January 2023, is a highly controllable, low-level orchestration framework that empowers developers to build sophisticated agentic applications. Since its inception, LangGraph has undergone significant improvements, culminating in a stable 0.1 release in June. One of its standout features is the inclusion of a persistence layer that enables seamless human-in-the-loop interactions, making it an ideal choice for developing complex applications that require domain-specific\", \"score\": 0.93735445, \"raw_content\": null}, {\"url\": \"https://www.marktechpost.com/2024/08/03/langchain-introduces-langgraph-studio-the-first-agent-ide-for-visualizing-interacting-with-and-debugging-complex-agentic-applications/\", \"title\": \"LangChain Introduces LangGraph Studio: The First Agent IDE for ...\", \"content\": \"LangGraph, launched in January 2023, is a highly controllable, low-level orchestration framework for building agentic applications. Since its inception, it has undergone significant improvements, leading to a stable 0.1 release in June. LangGraph features a persistence layer enabling human-in-the-loop interactions and excels at building complex applications requiring domain-specific cognitive architecture.\", \"score\": 0.93425745, \"raw_content\": null}], \"response_time\": 0.75, \"request_id\": \"2e84bf10-2d83-4920-b870-f7641aebc579\"}\n",
      "==================================\u001b[1m Ai Message \u001b[0m==================================\n",
      "Tool Calls:\n",
      "  human_assistance (456f5b79-d2de-487b-bbf7-bdc6e25a12de)\n",
      " Call ID: 456f5b79-d2de-487b-bbf7-bdc6e25a12de\n",
      "  Args:\n",
      "    author: Assistant\n",
      "    release_date: January 2023\n"
     ]
    }
   ],
   "source": [
    "user_input = (\n",
    "    \"Can you look up when LangGraph was released? \"\n",
    "    \"When you have the answer, use the human_assistance tool for review.\"\n",
    ")\n",
    "config = {\"configurable\": {\"thread_id\": \"1\"}}\n",
    "\n",
    "events = graph.stream(\n",
    "    {\"messages\": [{\"role\": \"user\", \"content\": user_input}]},\n",
    "    config,\n",
    "    stream_mode=\"values\",\n",
    ")\n",
    "for event in events:\n",
    "    if \"messages\" in event:\n",
    "        event[\"messages\"][-1].pretty_print()"
   ]
  },
  {
   "cell_type": "code",
   "execution_count": 17,
   "id": "e596a63e",
   "metadata": {},
   "outputs": [
    {
     "name": "stdout",
     "output_type": "stream",
     "text": [
      "==================================\u001b[1m Ai Message \u001b[0m==================================\n",
      "Tool Calls:\n",
      "  human_assistance (456f5b79-d2de-487b-bbf7-bdc6e25a12de)\n",
      " Call ID: 456f5b79-d2de-487b-bbf7-bdc6e25a12de\n",
      "  Args:\n",
      "    author: Assistant\n",
      "    release_date: January 2023\n",
      "=================================\u001b[1m Tool Message \u001b[0m=================================\n",
      "Name: human_assistance\n",
      "\n",
      "No. The correct information is: {'author': 'LangGraph', 'release_date': 'Jan 17, 2024'}. You can stop searching now.\n",
      "==================================\u001b[1m Ai Message \u001b[0m==================================\n",
      "Tool Calls:\n",
      "  tavily_search (c343bd26-6895-4e6b-ad2b-26b0e8933d56)\n",
      " Call ID: c343bd26-6895-4e6b-ad2b-26b0e8933d56\n",
      "  Args:\n",
      "    query: LangGraph release date Jan 17 2024\n",
      "    search_depth: basic\n",
      "=================================\u001b[1m Tool Message \u001b[0m=================================\n",
      "Name: tavily_search\n",
      "\n",
      "{\"query\": \"LangGraph release date Jan 17 2024\", \"follow_up_questions\": null, \"answer\": null, \"images\": [], \"results\": [{\"url\": \"https://pypi.org/project/langgraph/0.0.13/\", \"title\": \"langgraph · PyPI\", \"content\": \"Newer version available (0.6.7). Released: Jan 17, 2024. langgraph ... .whl . File metadata. Download URL: langgraph-0.0.13-py3-none-any.whl; Upload date:\", \"score\": 0.8763069, \"raw_content\": null}, {\"url\": \"https://x.com/LangChainAI/status/1747679001915908224\", \"title\": \"LangChain - X\", \"content\": \"LangGraph We introduced LangGraph last week, but are excited to launch it more officially ... 5:55 PM · Jan 17, 2024. ·. 59.7K. Views. 6. 98.\", \"score\": 0.7892503, \"raw_content\": null}], \"response_time\": 0.87, \"request_id\": \"ee4b528c-aab5-4bbf-a4e3-53bfb71e4813\"}\n",
      "==================================\u001b[1m Ai Message \u001b[0m==================================\n",
      "\n",
      "**LangGraph was released on January 17, 2024** (officially launched on the LangChain blog and confirmed by the PyPI release date).  \n",
      "\n",
      "---\n",
      "\n",
      "**Human assistance review**\n",
      "Tool Calls:\n",
      "  human_assistance (8851f780-9191-4951-ac2d-3247fbf5a975)\n",
      " Call ID: 8851f780-9191-4951-ac2d-3247fbf5a975\n",
      "  Args:\n",
      "    author: Assistant\n",
      "    release_date: January 17, 2024\n"
     ]
    }
   ],
   "source": [
    "human_command = Command(\n",
    "    resume={\n",
    "        \"author\": \"LangGraph\",\n",
    "        \"release_date\": \"Jan 17, 2024\",\n",
    "    },\n",
    ")\n",
    "\n",
    "events = graph.stream(human_command, config, stream_mode=\"values\")\n",
    "for event in events:\n",
    "    if \"messages\" in event:\n",
    "        event[\"messages\"][-1].pretty_print()"
   ]
  },
  {
   "cell_type": "code",
   "execution_count": 18,
   "id": "93cea283",
   "metadata": {},
   "outputs": [
    {
     "name": "stdout",
     "output_type": "stream",
     "text": [
      "==================================\u001b[1m Ai Message \u001b[0m==================================\n",
      "\n",
      "**LangGraph was released on January 17, 2024** (officially launched on the LangChain blog and confirmed by the PyPI release date).  \n",
      "\n",
      "---\n",
      "\n",
      "**Human assistance review**\n",
      "Tool Calls:\n",
      "  human_assistance (8851f780-9191-4951-ac2d-3247fbf5a975)\n",
      " Call ID: 8851f780-9191-4951-ac2d-3247fbf5a975\n",
      "  Args:\n",
      "    author: Assistant\n",
      "    release_date: January 17, 2024\n",
      "=================================\u001b[1m Tool Message \u001b[0m=================================\n",
      "Name: human_assistance\n",
      "\n",
      "No. The correct information is: {'author': 'LangGraph', 'release_date': 'Jan 17, 2024'}. You can stop searching now.\n",
      "==================================\u001b[1m Ai Message \u001b[0m==================================\n",
      "\n",
      "Got it—thank you for confirming! The release date is indeed **January 17, 2024**.\n"
     ]
    }
   ],
   "source": [
    "human_command = Command(\n",
    "    resume={\n",
    "        \"author\": \"LangGraph\",\n",
    "        \"release_date\": \"Jan 17, 2024\",\n",
    "    },\n",
    ")\n",
    "\n",
    "events = graph.stream(human_command, config, stream_mode=\"values\")\n",
    "for event in events:\n",
    "    if \"messages\" in event:\n",
    "        event[\"messages\"][-1].pretty_print()"
   ]
  },
  {
   "cell_type": "code",
   "execution_count": 19,
   "id": "8113f60b",
   "metadata": {},
   "outputs": [
    {
     "data": {
      "text/plain": [
       "{'author': 'LangGraph', 'release_date': 'Jan 17, 2024'}"
      ]
     },
     "execution_count": 19,
     "metadata": {},
     "output_type": "execute_result"
    }
   ],
   "source": [
    "snapshot = graph.get_state(config)\n",
    "\n",
    "{k: v for k, v in snapshot.values.items() if k in (\"author\", \"release_date\")}"
   ]
  },
  {
   "cell_type": "code",
   "execution_count": 20,
   "id": "e8be2bbf",
   "metadata": {},
   "outputs": [
    {
     "data": {
      "text/plain": [
       "{'configurable': {'thread_id': '1',\n",
       "  'checkpoint_ns': '',\n",
       "  'checkpoint_id': '1f09ba07-2064-679b-8010-2268711a0992'}}"
      ]
     },
     "execution_count": 20,
     "metadata": {},
     "output_type": "execute_result"
    }
   ],
   "source": [
    "graph.update_state(config, {\"author\": \"LangGraph (library)\"})"
   ]
  },
  {
   "cell_type": "code",
   "execution_count": 21,
   "id": "d6240387",
   "metadata": {},
   "outputs": [
    {
     "data": {
      "text/plain": [
       "{'author': 'LangGraph (library)', 'release_date': 'Jan 17, 2024'}"
      ]
     },
     "execution_count": 21,
     "metadata": {},
     "output_type": "execute_result"
    }
   ],
   "source": [
    "snapshot = graph.get_state(config)\n",
    "\n",
    "{k: v for k, v in snapshot.values.items() if k in (\"author\", \"release_date\")}"
   ]
  }
 ],
 "metadata": {
  "kernelspec": {
   "display_name": "langgraph_prac_workspace",
   "language": "python",
   "name": "python3"
  },
  "language_info": {
   "codemirror_mode": {
    "name": "ipython",
    "version": 3
   },
   "file_extension": ".py",
   "mimetype": "text/x-python",
   "name": "python",
   "nbconvert_exporter": "python",
   "pygments_lexer": "ipython3",
   "version": "3.12.10"
  }
 },
 "nbformat": 4,
 "nbformat_minor": 5
}
