{
 "cells": [
  {
   "cell_type": "markdown",
   "id": "bbcb09a4",
   "metadata": {},
   "source": [
    "# [Source](https://langchain-ai.github.io/langgraph/tutorials/get-started/5-customize-state/)"
   ]
  },
  {
   "cell_type": "code",
   "execution_count": 1,
   "id": "c6067075",
   "metadata": {},
   "outputs": [],
   "source": [
    "from dotenv import load_dotenv\n",
    "load_dotenv()\n",
    "import os\n",
    "from langchain_ollama import ChatOllama\n",
    "from typing import Annotated\n",
    "from typing_extensions import TypedDict\n",
    "from langgraph.graph.message import add_messages\n",
    "from langgraph.graph import StateGraph, START, END\n",
    "from langgraph.prebuilt import ToolNode, tools_condition, create_react_agent\n",
    "from langgraph.checkpoint.memory import InMemorySaver\n",
    "from langchain_tavily import TavilySearch"
   ]
  },
  {
   "cell_type": "code",
   "execution_count": 2,
   "id": "a5889eca",
   "metadata": {},
   "outputs": [],
   "source": [
    "llm = ChatOllama(\n",
    "    model=os.getenv(\"ollama_model\"),\n",
    "    reasoning=True,\n",
    ")"
   ]
  },
  {
   "cell_type": "code",
   "execution_count": 3,
   "id": "6a391d4f",
   "metadata": {},
   "outputs": [],
   "source": [
    "class State(TypedDict):\n",
    "    messages: Annotated[list, add_messages]\n",
    "    author: str\n",
    "    release_date: str"
   ]
  },
  {
   "cell_type": "code",
   "execution_count": 4,
   "id": "df4522d6",
   "metadata": {},
   "outputs": [],
   "source": [
    "from langchain_core.messages import ToolMessage\n",
    "from langchain_core.tools import InjectedToolCallId, tool\n",
    "from langgraph.types import Command, interrupt"
   ]
  },
  {
   "cell_type": "code",
   "execution_count": 5,
   "id": "f48e9fd8",
   "metadata": {},
   "outputs": [],
   "source": [
    "# Note that because we are generating a ToolMessage for a state update, we\n",
    "# generally require the ID of the corresponding tool call. We can use\n",
    "# LangChain's InjectedToolCallId to signal that this argument should not\n",
    "# be revealed to the model in the tool's schema.\n",
    "@tool\n",
    "def human_assistance(\n",
    "    author: str, release_date: str, tool_call_id: Annotated[str, InjectedToolCallId]\n",
    ") -> str:\n",
    "    \"\"\"Request assistance from a human.\"\"\"\n",
    "    human_response = interrupt(\n",
    "        {\n",
    "            \"question\": \"Is this correct?\",\n",
    "            \"author\": author,\n",
    "            \"release_date\": release_date,\n",
    "        },\n",
    "    )\n",
    "    # If the information is correct, update the state as-is.\n",
    "    if human_response.get(\"correct\", \"\").lower().startswith(\"y\"):\n",
    "        verified_author = author\n",
    "        verified_release_date = release_date\n",
    "        response = \"Correct\"\n",
    "    # Otherwise, receive information from the human reviewer.\n",
    "    else:\n",
    "        verified_author = human_response.get(\"author\", author)\n",
    "        verified_release_date = human_response.get(\"release_date\", release_date)\n",
    "        response = f\"No. The correct information is: {human_response}. You can stop searching now.\"\n",
    "\n",
    "    # This time we explicitly update the state with a ToolMessage inside\n",
    "    # the tool.\n",
    "    state_update = {\n",
    "        \"author\": verified_author,\n",
    "        \"release_date\": verified_release_date,\n",
    "        \"messages\": [ToolMessage(response, tool_call_id=tool_call_id)],\n",
    "    }\n",
    "    # We return a Command object in the tool to update our state.\n",
    "    return Command(update=state_update)"
   ]
  },
  {
   "cell_type": "code",
   "execution_count": 6,
   "id": "a02d11c6",
   "metadata": {},
   "outputs": [],
   "source": [
    "tool = TavilySearch(max_results=2)\n",
    "tools = [tool, human_assistance]\n",
    "llm_with_tools = llm.bind_tools(tools)\n",
    "# agent = create_react_agent(\n",
    "#     model=llm,\n",
    "#     tools=tools,\n",
    "#     prompt=\"Reasoning: high\"\n",
    "# )"
   ]
  },
  {
   "cell_type": "code",
   "execution_count": 7,
   "id": "8888e70e",
   "metadata": {},
   "outputs": [],
   "source": [
    "def chatbot(state: State):\n",
    "    message = llm_with_tools.invoke(state[\"messages\"])\n",
    "    # print(message)\n",
    "    # Because we will be interrupting during tool execution,\n",
    "    # we disable parallel tool calling to avoid repeating any\n",
    "    # tool invocations when we resume.\n",
    "    assert len(message.tool_calls) <= 1\n",
    "    return {\"messages\": [message]}"
   ]
  },
  {
   "cell_type": "code",
   "execution_count": 8,
   "id": "2d1bca84",
   "metadata": {},
   "outputs": [],
   "source": [
    "graph_builder = StateGraph(State)"
   ]
  },
  {
   "cell_type": "code",
   "execution_count": 9,
   "id": "12ba447a",
   "metadata": {},
   "outputs": [
    {
     "data": {
      "text/plain": [
       "<langgraph.graph.state.StateGraph at 0x743ba3f5cd70>"
      ]
     },
     "execution_count": 9,
     "metadata": {},
     "output_type": "execute_result"
    }
   ],
   "source": [
    "graph_builder.add_node(\"chatbot\", chatbot)"
   ]
  },
  {
   "cell_type": "code",
   "execution_count": 10,
   "id": "d280a5a2",
   "metadata": {},
   "outputs": [
    {
     "data": {
      "text/plain": [
       "<langgraph.graph.state.StateGraph at 0x743ba3f5cd70>"
      ]
     },
     "execution_count": 10,
     "metadata": {},
     "output_type": "execute_result"
    }
   ],
   "source": [
    "tool_node = ToolNode(tools=tools)\n",
    "graph_builder.add_node(\"tools\", tool_node)"
   ]
  },
  {
   "cell_type": "code",
   "execution_count": 11,
   "id": "75cd0c4a",
   "metadata": {},
   "outputs": [
    {
     "data": {
      "text/plain": [
       "<langgraph.graph.state.StateGraph at 0x743ba3f5cd70>"
      ]
     },
     "execution_count": 11,
     "metadata": {},
     "output_type": "execute_result"
    }
   ],
   "source": [
    "graph_builder.add_conditional_edges(\n",
    "    \"chatbot\",\n",
    "    tools_condition,\n",
    ")"
   ]
  },
  {
   "cell_type": "code",
   "execution_count": 12,
   "id": "bf259862",
   "metadata": {},
   "outputs": [
    {
     "data": {
      "text/plain": [
       "<langgraph.graph.state.StateGraph at 0x743ba3f5cd70>"
      ]
     },
     "execution_count": 12,
     "metadata": {},
     "output_type": "execute_result"
    }
   ],
   "source": [
    "graph_builder.add_edge(\"tools\", \"chatbot\")\n",
    "graph_builder.add_edge(START, \"chatbot\")"
   ]
  },
  {
   "cell_type": "code",
   "execution_count": 13,
   "id": "de01c707",
   "metadata": {},
   "outputs": [],
   "source": [
    "memory = InMemorySaver()\n",
    "graph = graph_builder.compile(checkpointer=memory)"
   ]
  },
  {
   "cell_type": "code",
   "execution_count": 14,
   "id": "4cece458",
   "metadata": {},
   "outputs": [],
   "source": [
    "from IPython.display import Image, display"
   ]
  },
  {
   "cell_type": "code",
   "execution_count": 15,
   "id": "76546fa5",
   "metadata": {},
   "outputs": [
    {
     "data": {
      "image/png": "[encoded data removed]",
      "text/plain": [
       "<IPython.core.display.Image object>"
      ]
     },
     "metadata": {},
     "output_type": "display_data"
    }
   ],
   "source": [
    "g = graph.get_graph()\n",
    "png = g.draw_png()     # pygraphviz + graphviz 필요\n",
    "display(Image(png))"
   ]
  },
  {
   "cell_type": "code",
   "execution_count": 16,
   "id": "fb28f451",
   "metadata": {},
   "outputs": [
    {
     "name": "stdout",
     "output_type": "stream",
     "text": [
      "================================\u001b[1m Human Message \u001b[0m=================================\n",
      "\n",
      "Can you look up when LangGraph was released? When you have the answer, use the human_assistance tool for review.\n",
      "==================================\u001b[1m Ai Message \u001b[0m==================================\n",
      "Tool Calls:\n",
      "  tavily_search (dc551695-003a-41fb-9e3a-c8210dd61354)\n",
      " Call ID: dc551695-003a-41fb-9e3a-c8210dd61354\n",
      "  Args:\n",
      "    query: LangGraph release date\n",
      "    search_depth: advanced\n",
      "=================================\u001b[1m Tool Message \u001b[0m=================================\n",
      "Name: tavily_search\n",
      "\n",
      "{\"query\": \"LangGraph release date\", \"follow_up_questions\": null, \"answer\": null, \"images\": [], \"results\": [{\"url\": \"https://blog.langchain.com/langgraph-studio-the-first-agent-ide/\", \"title\": \"LangGraph Studio: The first agent IDE - LangChain Blog\", \"content\": \"In January 2023, we launched LangGraph, a highly controllable, low-level orchestration framework for building agentic applications. Since then, we've seen teams build more complex agentic applications for production; in turn, we've heavily invested in LangGraph, leading to a stable 0.1 release this past June.\", \"score\": 0.81133276, \"raw_content\": null}, {\"url\": \"https://blog.langchain.com/langchain-langchain-1-0-alpha-releases/\", \"title\": \"LangChain & LangGraph 1.0 alpha releases\", \"content\": \"Published Time: 2025-09-02T17:02:02.000Z\\n\\nLangChain & LangGraph 1.0 alpha releases\\n\\nSkip to content\\n\\nImage 1: LangChain Blog\\n\\n   Case Studies\\n   In the Loop\\n   LangChain\\n   Docs\\n   Changelog\\n\\nSign inSubscribe\\n\\nImage 2: LangChain & LangGraph 1.0 alpha releases\\n\\nLangChain & LangGraph 1.0 alpha releases\\n\\n3 min read Sep 2, 2025 [...] Updates from the LangChain team and community\\n\\nEnter your email Subscribe\\n\\nProcessing your application...\\n\\nSuccess! Please check your inbox and click the link to confirm your subscription.\\n\\nSorry, something went wrong. Please try again.\\n\\n   Sign up\\n\\n© LangChain Blog 2025 [...] Today we are announcing alpha releases of v1.0 for `langgraph` and `langchain`, in both Python and JS. LangGraph is a low-level agent orchestration framework, giving developers durable execution and fine-grained control to run complex agentic systems in production. LangChain helps developers ship AI features fast with standardized model abstractions and prebuilt agent patterns, making it easy to build complex applications without vendor lock-in. We are working towards an official 1.0 release in\", \"score\": 0.80442166, \"raw_content\": null}], \"response_time\": 1.28, \"request_id\": \"ad00fa9a-de5a-4eaa-99f1-f9c83b55dcbd\"}\n",
      "==================================\u001b[1m Ai Message \u001b[0m==================================\n",
      "Tool Calls:\n",
      "  tavily_search (05d00695-ca6c-40d0-ba6f-ecc852cdc19a)\n",
      " Call ID: 05d00695-ca6c-40d0-ba6f-ecc852cdc19a\n",
      "  Args:\n",
      "    query: LangGraph stable 0.1 release June 2024 LangGraph\n",
      "    search_depth: advanced\n",
      "=================================\u001b[1m Tool Message \u001b[0m=================================\n",
      "Name: tavily_search\n",
      "\n",
      "{\"query\": \"LangGraph stable 0.1 release June 2024 LangGraph\", \"follow_up_questions\": null, \"answer\": null, \"images\": [], \"results\": [{\"url\": \"https://blockchain.news/news/langchain-unveils-langgraph-studio-the-first-ide-for-agent-development\", \"title\": \"LangChain Unveils LangGraph Studio: The First IDE for Agent ...\", \"content\": \"LangGraph, introduced in January 2023, is a low-level orchestration framework for building agentic applications. Since its launch, LangGraph has undergone significant enhancements, culminating in a stable 0.1 release in June 2024. The framework supports complex applications requiring highly domain-specific cognitive architectures and features a persistence layer that enables human-in-the-loop interactions.\", \"score\": 0.94620544, \"raw_content\": null}, {\"url\": \"https://blog.langchain.com/langgraph-cloud/\", \"title\": \"Announcing LangGraph v0.1 & LangGraph Cloud: Running agents ...\", \"content\": \"Today, we’re introducing a stable release of LangGraph v0.1, reaffirming our commitment to helping users create more of these robust agentic systems, and we’re grateful for leading companies such as Klarna, Replit, Ally, Elastic, NCL, and many more who are already relying on LangGraph to take their companies’ AI initiatives to the next level. [...] Skip to content\\n\\n# Announcing LangGraph v0.1 & LangGraph Cloud: Running agents at scale, reliably\\n\\nOur new infrastructure for running agents at scale, LangGraph Cloud, is available in beta. We also have a new stable release of LangGraph.\\n\\n(Oct '24) Edit: Since the launch of LangGraph Cloud, we now have multiple deployment options alongside LangGraph Studio – which now fall under LangGraph Platform. LangGraph Cloud is synonymous with our Cloud SaaS deployment option. See here for more details. [...] > \\\"LangGraph has been instrumental for our AI development. Its robust framework for building stateful, multi-actor applications with LLMs has transformed how we evaluate and optimize the performance of our AI guest-facing solutions. LangGraph enables granular control over the agent's thought process, which has empowered us to make data-driven and deliberate decisions to meet the diverse needs of our guests.\\\" - Andres Torres (Sr. Solutions Architect @ Norwegian Cruise Line)\", \"score\": 0.7576693, \"raw_content\": null}], \"response_time\": 1.66, \"request_id\": \"f0f8d58d-269c-461e-b0dc-59d516808297\"}\n",
      "==================================\u001b[1m Ai Message \u001b[0m==================================\n",
      "Tool Calls:\n",
      "  human_assistance (dc459f58-7fee-4ac2-9c61-585620f858af)\n",
      " Call ID: dc459f58-7fee-4ac2-9c61-585620f858af\n",
      "  Args:\n",
      "    author: LangGraph Release Info\n",
      "    release_date: 2023-01\n"
     ]
    }
   ],
   "source": [
    "user_input = (\n",
    "    \"Can you look up when LangGraph was released? \"\n",
    "    \"When you have the answer, use the human_assistance tool for review.\"\n",
    ")\n",
    "config = {\"configurable\": {\"thread_id\": \"1\"}}\n",
    "\n",
    "events = graph.stream(\n",
    "    {\"messages\": [{\"role\": \"user\", \"content\": user_input}]},\n",
    "    config,\n",
    "    stream_mode=\"values\",\n",
    ")\n",
    "for event in events:\n",
    "    if \"messages\" in event:\n",
    "        event[\"messages\"][-1].pretty_print()"
   ]
  },
  {
   "cell_type": "code",
   "execution_count": 17,
   "id": "e596a63e",
   "metadata": {},
   "outputs": [
    {
     "name": "stdout",
     "output_type": "stream",
     "text": [
      "==================================\u001b[1m Ai Message \u001b[0m==================================\n",
      "Tool Calls:\n",
      "  human_assistance (dc459f58-7fee-4ac2-9c61-585620f858af)\n",
      " Call ID: dc459f58-7fee-4ac2-9c61-585620f858af\n",
      "  Args:\n",
      "    author: LangGraph Release Info\n",
      "    release_date: 2023-01\n",
      "=================================\u001b[1m Tool Message \u001b[0m=================================\n",
      "Name: human_assistance\n",
      "\n",
      "No. The correct information is: {'author': 'LangGraph', 'release_date': 'Jan 17, 2024'}. You can stop searching now.\n",
      "==================================\u001b[1m Ai Message \u001b[0m==================================\n",
      "Tool Calls:\n",
      "  human_assistance (f519da87-4fec-4a91-a4ee-45dd2b805bbd)\n",
      " Call ID: f519da87-4fec-4a91-a4ee-45dd2b805bbd\n",
      "  Args:\n",
      "    author: LangGraph\n",
      "    release_date: Jan 17, 2024\n"
     ]
    }
   ],
   "source": [
    "human_command = Command(\n",
    "    resume={\n",
    "        \"author\": \"LangGraph\",\n",
    "        \"release_date\": \"Jan 17, 2024\",\n",
    "    },\n",
    ")\n",
    "\n",
    "events = graph.stream(human_command, config, stream_mode=\"values\")\n",
    "for event in events:\n",
    "    if \"messages\" in event:\n",
    "        event[\"messages\"][-1].pretty_print()"
   ]
  },
  {
   "cell_type": "code",
   "execution_count": 18,
   "id": "93cea283",
   "metadata": {},
   "outputs": [
    {
     "name": "stdout",
     "output_type": "stream",
     "text": [
      "==================================\u001b[1m Ai Message \u001b[0m==================================\n",
      "Tool Calls:\n",
      "  human_assistance (f519da87-4fec-4a91-a4ee-45dd2b805bbd)\n",
      " Call ID: f519da87-4fec-4a91-a4ee-45dd2b805bbd\n",
      "  Args:\n",
      "    author: LangGraph\n",
      "    release_date: Jan 17, 2024\n",
      "=================================\u001b[1m Tool Message \u001b[0m=================================\n",
      "Name: human_assistance\n",
      "\n",
      "No. The correct information is: {'author': 'LangGraph', 'release_date': 'Jan 17, 2024'}. You can stop searching now.\n",
      "==================================\u001b[1m Ai Message \u001b[0m==================================\n",
      "Tool Calls:\n",
      "  tavily_search (cf9bb1dc-e2f3-4ad9-97ce-410682ad437f)\n",
      " Call ID: cf9bb1dc-e2f3-4ad9-97ce-410682ad437f\n",
      "  Args:\n",
      "    query: Jan 17 2024 LangGraph release\n",
      "    search_depth: advanced\n",
      "=================================\u001b[1m Tool Message \u001b[0m=================================\n",
      "Name: tavily_search\n",
      "\n",
      "{\"query\": \"Jan 17 2024 LangGraph release\", \"follow_up_questions\": null, \"answer\": null, \"images\": [], \"results\": [{\"url\": \"https://changelog.langchain.com/?categories=cat_5UBL6DD8PcXXL&date=2025-06-01&page=3\", \"title\": \"LangChain - Changelog\", \"content\": \"8, 2024LangGraph ✔️ LangGraph v0.2: Increased customization with new checkpointers ----------------------------------------------------------------- We've released LangGraph v0.2 for increased customization with new checkpointer libraries. LangGraph v0.2 allows you to tailor stateful LangGraph apps to... August 7, 2024Image 1 LangGraph 🚀 LangGraph Studio: The first agent IDE ---------------------------------------- LangGraph Studio offers a new way to develop LLM applications by providing a [...] ----------------------------------------------------------------- We're excited to roll out several key updates that enhance the LangGraph API/Cloud experience. These includeL These updates collectively enhance the... August 30, 2024LangGraph ☁️ 🤖 LangGraph Cloud is available in open beta ----------------------------------------------- LangGraph Cloud is now available in open beta. LangGraph Cloud lets you build fault-tolerant, scalable agents. You can: All LangSmith users on Plus and... August [...] LangGraph 🐍 LangGraph Python: Dynamic breakpoints, error tracking in checkpointer, and custom configs -------------------------------------------------------------------------------------------- We’ve rolled out new features and improvements to LangGraph Python, designed to streamline your workflows: These updates enhance control, error management,... August 31, 2024LangGraph 🤖 Reliable streaming and efficient state management in LangGraph\", \"score\": 0.5917474, \"raw_content\": null}, {\"url\": \"https://changelog.langchain.com/?date=2024-12-01\", \"title\": \"December 2024 - LangChain - Changelog\", \"content\": \"We've released Command , a new tool in LangGraph that lets you manage dynamic, edgeless agent flows. Now, nodes can dynamically decide which node to execute...\\n\\nLangSmith   LangSmith Self-Hosted\\n\\n## ð Organization Usage Charts for Self-Hosted Customers\\n\\nSelf-hosted LangSmith customers can now access organization usage charts . Track trace usage across your entire org or by workspace with ease. Whats New:...\\n\\nLangSmith\\n\\n## ð­ OpenTelemetry support for LangSmith [...] LangSmith now supports OpenTelemetry, bringing distributed tracing and end-to-end visibility to your LLM observability workflow. Ingest traces in OpenLLMetry...\\n\\nLangSmith\\n\\n## ð ï¸ LangSmith SDK v0.2: Simplified evaluators and improved performance\\n\\nWe've recently released v0.2 of our LangSmith SDKs (Python and TypeScript) with a number of quality-of-life improvements to make the evals experience more...\\n\\nLangGraph   LangGraph Platform\", \"score\": 0.44160134, \"raw_content\": null}], \"response_time\": 1.61, \"request_id\": \"09b8aa4e-60eb-46df-8c42-9112e80b147c\"}\n",
      "==================================\u001b[1m Ai Message \u001b[0m==================================\n",
      "Tool Calls:\n",
      "  tavily_search (d62d3634-8f57-4c02-9e7c-29500b607c8c)\n",
      " Call ID: d62d3634-8f57-4c02-9e7c-29500b607c8c\n",
      "  Args:\n",
      "    query: LangGraph Jan 17 2024\n",
      "    search_depth: advanced\n",
      "=================================\u001b[1m Tool Message \u001b[0m=================================\n",
      "Name: tavily_search\n",
      "\n",
      "{\"query\": \"LangGraph Jan 17 2024\", \"follow_up_questions\": null, \"answer\": null, \"images\": [], \"results\": [{\"url\": \"https://pypi.org/project/langgraph/0.0.64/\", \"title\": \"langgraph · PyPI\", \"content\": \"0.0.24 Feb 8, 2024\\n\\nImage 197\\n\\n0.0.23 Feb 4, 2024\\n\\nImage 198\\n\\n0.0.22 Feb 4, 2024\\n\\nImage 199\\n\\n0.0.21 Jan 31, 2024\\n\\nImage 200\\n\\n0.0.20 Jan 27, 2024\\n\\nImage 201\\n\\n0.0.19 Jan 23, 2024\\n\\nImage 202\\n\\n0.0.18 Jan 23, 2024\\n\\nImage 203\\n\\n0.0.17 Jan 23, 2024\\n\\nImage 204\\n\\n0.0.16 Jan 21, 2024\\n\\nImage 205\\n\\n0.0.15 Jan 19, 2024\\n\\nImage 206\\n\\n0.0.14 Jan 18, 2024\\n\\nImage 207\\n\\n0.0.13 Jan 17, 2024\\n\\nImage 208\\n\\n0.0.12 Jan 17, 2024\\n\\nImage 209\\n\\n0.0.11 Jan 16, 2024\\n\\nImage 210\\n\\n0.0.10 Jan 9, 2024\\n\\nImage 211\\n\\n0.0.9 Jan 8, 2024 [...] Output from node 'agent':\\n\\n{'messages': AIMessage(content=\\\"I couldn't find the current weather in San Francisco. However, you can visit [WeatherSpark to check the historical weather data for January 2024 in San Francisco.\\\")]}\\n\\nOutput from node '__end__':\", \"score\": 0.6711479, \"raw_content\": null}, {\"url\": \"https://github.com/langchain-ai/langgraph/issues/740\", \"title\": \"langgraph.errors.InvalidUpdateError: Must write to at least one of ...\", \"content\": \"`Traceback (most recent call last): File \\\"d:\\\\2024_crewAI_LangGraph_Mem0\\\\CrewAI-LangGraph-weather-query\\\\main.py\\\", line 17, in <module> app.invoke({ \\\"current_index\\\": 0 }) File \\\"E:\\\\ProgramData\\\\anaconda3\\\\envs\\\\crewAI\\\\lib\\\\site-packages\\\\langgraph\\\\pregel\\\\__init__.py\\\",  line 1263, in invoke for chunk in self.stream( File \\\"E:\\\\ProgramData\\\\anaconda3\\\\envs\\\\crewAI\\\\lib\\\\site-packages\\\\langgraph\\\\pregel\\\\__init__.py\\\",  line 948, in stream _panic_or_proceed(done, inflight, loop.step) File\", \"score\": 0.5852203, \"raw_content\": null}], \"response_time\": 1.78, \"request_id\": \"dd0e56e1-bf39-4480-9c13-350259fc3712\"}\n",
      "==================================\u001b[1m Ai Message \u001b[0m==================================\n",
      "Tool Calls:\n",
      "  tavily_search (65ba89da-6e37-4d8f-abd5-4a61fda15bff)\n",
      " Call ID: 65ba89da-6e37-4d8f-abd5-4a61fda15bff\n",
      "  Args:\n",
      "    query: LangGraph \"Jan 17, 2024\" LangChain blog\n",
      "    search_depth: advanced\n",
      "=================================\u001b[1m Tool Message \u001b[0m=================================\n",
      "Name: tavily_search\n",
      "\n",
      "{\"query\": \"LangGraph \\\"Jan 17, 2024\\\" LangChain blog\", \"follow_up_questions\": null, \"answer\": null, \"images\": [], \"results\": [{\"url\": \"https://blog.langchain.com/top-5-langgraph-agents-in-production-2024/\", \"title\": \"Top 5 LangGraph Agents in Production 2024 - LangChain Blog\", \"content\": \"We launched LangGraph in early 2024 as a new take on an agentic framework. Incorporating lessons learned from LangChain, we made LangGraph very low level, controllable agentic framework. No hidden prompts, no obfuscated \\\"cognitive architecture\\\". Soon after it's launch, we saw LangGraph become the go-to default framework for agents. [...] LinkedIn Engineering Blog\\n\\n## #2: Elastic\\n\\nElastic was one of the first companies in my mind to launch an AI \\\"agent\\\". We covered their AI assistant in late January of 2024 - right at the start of the year. Back then it was using LangChain, but as they added more features, they migrated to LangGraph.\\n\\n Initial case study\\n Follow up blog\\n\\nExcited to see the continued development of AI assistant!\\n\\n## #1: Replit [...] Skip to content\\n\\n# Top 5 LangGraph Agents in Production 2024\\n\\n3 min read\\n\\n2024 was the year that agents started to work in production. Not the wide-ranging, fully autonomous agents that people imagined with AutoGPT. But more vertical, narrowly scoped, highly controllable agents with custom cognitive architectures. It's still not easy to build these agents - but it's entirely possible.\", \"score\": 0.7451949, \"raw_content\": null}, {\"url\": \"https://www.langchain.com/langgraph\", \"title\": \"LangGraph - LangChain\", \"content\": \"“LangChain is streets ahead with what they've put forward with LangGraph. LangGraph sets the foundation for how we can build and scale AI workloads — from conversational agents, complex task automation, to custom LLM-backed experiences that 'just work'. The next chapter in building complex production-ready features with LLMs is agentic, and with LangGraph and LangSmith, LangChain delivers an out-of-the-box solution to iterate quickly, debug immediately, and scale effortlessly.”\\n\\nGarrett Spong [...] “LangChain is streets ahead with what they've put forward with LangGraph. LangGraph sets the foundation for how we can build and scale AI workloads — from conversational agents, complex task automation, to custom LLM-backed experiences that 'just work'. The next chapter in building complex production-ready features with LLMs is agentic, and with LangGraph and LangSmith, LangChain delivers an out-of-the-box solution to iterate quickly, debug immediately, and scale effortlessly.”\\n\\nGarrett Spong [...] “As Ally advances its exploration of Generative AI, our tech labs is excited by LangGraph, the new library from LangChain, which is central to our experiments with multi-actor agentic workflows. We are committed to deepening our partnership with LangChain.”\\n\\n“As Ally advances its exploration of Generative AI,\\n\\nSathish Muthukrishnan\\n\\nChief Information, Data and Digital Officer\", \"score\": 0.559411, \"raw_content\": null}], \"response_time\": 2.1, \"request_id\": \"61b81ee3-a40d-469e-b64b-2d5f536cad32\"}\n",
      "==================================\u001b[1m Ai Message \u001b[0m==================================\n",
      "Tool Calls:\n",
      "  human_assistance (b2d380b2-2a84-4b2b-baad-7ab20f38843c)\n",
      " Call ID: b2d380b2-2a84-4b2b-baad-7ab20f38843c\n",
      "  Args:\n",
      "    author: LangGraph\n",
      "    release_date: Jan 17, 2024\n"
     ]
    }
   ],
   "source": [
    "human_command = Command(\n",
    "    resume={\n",
    "        \"author\": \"LangGraph\",\n",
    "        \"release_date\": \"Jan 17, 2024\",\n",
    "    },\n",
    ")\n",
    "\n",
    "events = graph.stream(human_command, config, stream_mode=\"values\")\n",
    "for event in events:\n",
    "    if \"messages\" in event:\n",
    "        event[\"messages\"][-1].pretty_print()"
   ]
  },
  {
   "cell_type": "code",
   "execution_count": 19,
   "id": "3c885b54",
   "metadata": {},
   "outputs": [
    {
     "name": "stdout",
     "output_type": "stream",
     "text": [
      "==================================\u001b[1m Ai Message \u001b[0m==================================\n",
      "Tool Calls:\n",
      "  human_assistance (b2d380b2-2a84-4b2b-baad-7ab20f38843c)\n",
      " Call ID: b2d380b2-2a84-4b2b-baad-7ab20f38843c\n",
      "  Args:\n",
      "    author: LangGraph\n",
      "    release_date: Jan 17, 2024\n",
      "=================================\u001b[1m Tool Message \u001b[0m=================================\n",
      "Name: human_assistance\n",
      "\n",
      "No. The correct information is: {'author': 'LangGraph', 'release_date': 'Jan 17, 2024'}. You can stop searching now.\n",
      "==================================\u001b[1m Ai Message \u001b[0m==================================\n",
      "\n",
      "LangGraph was first released on **January 17, 2024**.  \n",
      "\n",
      "*(Confirmed via the human‑assistance review.)*\n"
     ]
    }
   ],
   "source": [
    "human_command = Command(\n",
    "    resume={\n",
    "        \"author\": \"LangGraph\",\n",
    "        \"release_date\": \"Jan 17, 2024\",\n",
    "    },\n",
    ")\n",
    "\n",
    "events = graph.stream(human_command, config, stream_mode=\"values\")\n",
    "for event in events:\n",
    "    if \"messages\" in event:\n",
    "        event[\"messages\"][-1].pretty_print()"
   ]
  },
  {
   "cell_type": "code",
   "execution_count": 20,
   "id": "8113f60b",
   "metadata": {},
   "outputs": [
    {
     "data": {
      "text/plain": [
       "{'author': 'LangGraph', 'release_date': 'Jan 17, 2024'}"
      ]
     },
     "execution_count": 20,
     "metadata": {},
     "output_type": "execute_result"
    }
   ],
   "source": [
    "snapshot = graph.get_state(config)\n",
    "\n",
    "{k: v for k, v in snapshot.values.items() if k in (\"author\", \"release_date\")}"
   ]
  },
  {
   "cell_type": "code",
   "execution_count": 21,
   "id": "e8be2bbf",
   "metadata": {},
   "outputs": [
    {
     "data": {
      "text/plain": [
       "{'configurable': {'thread_id': '1',\n",
       "  'checkpoint_ns': '',\n",
       "  'checkpoint_id': '1f09c29f-74a2-63ac-8012-08c0932b5769'}}"
      ]
     },
     "execution_count": 21,
     "metadata": {},
     "output_type": "execute_result"
    }
   ],
   "source": [
    "graph.update_state(config, {\"author\": \"LangGraph (library)\"})"
   ]
  },
  {
   "cell_type": "code",
   "execution_count": 22,
   "id": "d6240387",
   "metadata": {},
   "outputs": [
    {
     "data": {
      "text/plain": [
       "{'author': 'LangGraph (library)', 'release_date': 'Jan 17, 2024'}"
      ]
     },
     "execution_count": 22,
     "metadata": {},
     "output_type": "execute_result"
    }
   ],
   "source": [
    "snapshot = graph.get_state(config)\n",
    "\n",
    "{k: v for k, v in snapshot.values.items() if k in (\"author\", \"release_date\")}"
   ]
  },
  {
   "cell_type": "code",
   "execution_count": null,
   "id": "926006c6",
   "metadata": {},
   "outputs": [],
   "source": []
  }
 ],
 "metadata": {
  "kernelspec": {
   "display_name": "langgraph_prac_workspace",
   "language": "python",
   "name": "python3"
  },
  "language_info": {
   "codemirror_mode": {
    "name": "ipython",
    "version": 3
   },
   "file_extension": ".py",
   "mimetype": "text/x-python",
   "name": "python",
   "nbconvert_exporter": "python",
   "pygments_lexer": "ipython3",
   "version": "3.12.10"
  }
 },
 "nbformat": 4,
 "nbformat_minor": 5
}
